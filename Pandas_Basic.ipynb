{
  "nbformat": 4,
  "nbformat_minor": 0,
  "metadata": {
    "colab": {
      "provenance": [],
      "mount_file_id": "1qFwPBRRlZnRBobOlAPoxzrS_S33295Lu",
      "authorship_tag": "ABX9TyMPbfz1QKyGI+dD2XsZpC7s",
      "include_colab_link": true
    },
    "kernelspec": {
      "name": "python3",
      "display_name": "Python 3"
    },
    "language_info": {
      "name": "python"
    }
  },
  "cells": [
    {
      "cell_type": "markdown",
      "metadata": {
        "id": "view-in-github",
        "colab_type": "text"
      },
      "source": [
        "<a href=\"https://colab.research.google.com/github/anilsolanki2645/Numpy_Basic/blob/main/Pandas_Basic.ipynb\" target=\"_parent\"><img src=\"https://colab.research.google.com/assets/colab-badge.svg\" alt=\"Open In Colab\"/></a>"
      ]
    },
    {
      "cell_type": "markdown",
      "source": [
        "# Pandas_Tutorial"
      ],
      "metadata": {
        "id": "f2oXGhP2SZMg"
      }
    },
    {
      "cell_type": "markdown",
      "source": [
        "## Import libraries"
      ],
      "metadata": {
        "id": "0N0lyngiSiWJ"
      }
    },
    {
      "cell_type": "code",
      "execution_count": null,
      "metadata": {
        "id": "_8P7dQCSMhDh"
      },
      "outputs": [],
      "source": [
        "import numpy as np"
      ]
    },
    {
      "cell_type": "code",
      "source": [
        "import pandas as pd"
      ],
      "metadata": {
        "id": "KF8z0vSdMuG5"
      },
      "execution_count": null,
      "outputs": []
    },
    {
      "cell_type": "markdown",
      "source": [
        "## Demo"
      ],
      "metadata": {
        "id": "sECJ5015Sw_3"
      }
    },
    {
      "cell_type": "code",
      "source": [
        "mydataset = {\n",
        "  'cars': [\"BMW\", \"Volvo\", \"Ford\"],\n",
        "  'passings': [3, 7, 2]\n",
        "}\n",
        "\n",
        "myvar = pd.DataFrame(mydataset)\n",
        "\n",
        "print(myvar)"
      ],
      "metadata": {
        "colab": {
          "base_uri": "https://localhost:8080/"
        },
        "id": "ENrWTuKRMwgR",
        "outputId": "e1c59ca9-eb8a-4841-d053-9f277f8c9fcb"
      },
      "execution_count": null,
      "outputs": [
        {
          "output_type": "stream",
          "name": "stdout",
          "text": [
            "    cars  passings\n",
            "0    BMW         3\n",
            "1  Volvo         7\n",
            "2   Ford         2\n"
          ]
        }
      ]
    },
    {
      "cell_type": "markdown",
      "source": [
        "## Pandas Series\n",
        "* A Pandas Series is like a column in a table."
      ],
      "metadata": {
        "id": "AIvs2P2xVz0-"
      }
    },
    {
      "cell_type": "markdown",
      "source": [
        "* **Create a simple Pandas Series from a list:**"
      ],
      "metadata": {
        "id": "kChh9eLiV13N"
      }
    },
    {
      "cell_type": "code",
      "source": [
        "a = [1, 7, 2]\n",
        "\n",
        "myvar = pd.Series(a)\n",
        "\n",
        "print(myvar)"
      ],
      "metadata": {
        "colab": {
          "base_uri": "https://localhost:8080/"
        },
        "id": "Dpz7gr5qOVOH",
        "outputId": "75637175-4949-4582-a32e-dd350a2b8052"
      },
      "execution_count": null,
      "outputs": [
        {
          "output_type": "stream",
          "name": "stdout",
          "text": [
            "0    1\n",
            "1    7\n",
            "2    2\n",
            "dtype: int64\n"
          ]
        }
      ]
    },
    {
      "cell_type": "markdown",
      "source": [
        "* **Labels**\n",
        "* If nothing else is specified, the values are labeled with their index number. First value has index 0, second value has index 1 etc.\n",
        "\n",
        "* This label can be used to access a specified value."
      ],
      "metadata": {
        "id": "EMd3DgFCW22Q"
      }
    },
    {
      "cell_type": "code",
      "source": [
        "print(myvar[0])"
      ],
      "metadata": {
        "colab": {
          "base_uri": "https://localhost:8080/"
        },
        "id": "1nTQTqS8WDe7",
        "outputId": "8557c449-0e70-4e06-d898-748241f01f19"
      },
      "execution_count": null,
      "outputs": [
        {
          "output_type": "stream",
          "name": "stdout",
          "text": [
            "1\n"
          ]
        }
      ]
    },
    {
      "cell_type": "markdown",
      "source": [
        "* **Create Labels**\n",
        "* With the index argument, you can name your own labels."
      ],
      "metadata": {
        "id": "6R-NoIclXOdF"
      }
    },
    {
      "cell_type": "code",
      "source": [
        "a = [1, 7, 2]\n",
        "\n",
        "myvar = pd.Series(a, index = [\"x\", \"y\", \"z\"])\n",
        "\n",
        "print(myvar)\n",
        "\n",
        "#When you have created labels, you can access an item by referring to the label.\n",
        "\n",
        "print(\"\\n\",myvar[\"y\"])"
      ],
      "metadata": {
        "colab": {
          "base_uri": "https://localhost:8080/"
        },
        "id": "DcLYjZuXXMmO",
        "outputId": "0df0fca5-346b-40bc-9620-8b12536d43fc"
      },
      "execution_count": null,
      "outputs": [
        {
          "output_type": "stream",
          "name": "stdout",
          "text": [
            "x    1\n",
            "y    7\n",
            "z    2\n",
            "dtype: int64\n",
            "\n",
            " 7\n"
          ]
        }
      ]
    },
    {
      "cell_type": "markdown",
      "source": [
        "* **Key/Value Objects as Series**::\n",
        "* You can also use a key/value object, like a dictionary, when creating a Series."
      ],
      "metadata": {
        "id": "yVA7memZYVYe"
      }
    },
    {
      "cell_type": "code",
      "source": [
        "calories = {\"day1\": 420, \"day2\": 380, \"day3\": 390}\n",
        "\n",
        "myvar = pd.Series(calories)\n",
        "\n",
        "print(myvar)"
      ],
      "metadata": {
        "colab": {
          "base_uri": "https://localhost:8080/"
        },
        "id": "WzIN1Es3Xhy6",
        "outputId": "dce1fc89-26cd-43ce-93c2-87ac73291bcf"
      },
      "execution_count": null,
      "outputs": [
        {
          "output_type": "stream",
          "name": "stdout",
          "text": [
            "day1    420\n",
            "day2    380\n",
            "day3    390\n",
            "dtype: int64\n"
          ]
        }
      ]
    },
    {
      "cell_type": "markdown",
      "source": [
        "* Create a Series using only data from \"day1\" and \"day2\":"
      ],
      "metadata": {
        "id": "VeLJXPO_Y9Np"
      }
    },
    {
      "cell_type": "code",
      "source": [
        "calories = {\"day1\": 420, \"day2\": 380, \"day3\": 390}\n",
        "\n",
        "myvar = pd.Series(calories, index = [\"day1\", \"day2\"])\n",
        "\n",
        "print(myvar)"
      ],
      "metadata": {
        "colab": {
          "base_uri": "https://localhost:8080/"
        },
        "id": "4DYNntzfYn-p",
        "outputId": "6942c50c-6725-4f04-ab6d-886de97dc458"
      },
      "execution_count": null,
      "outputs": [
        {
          "output_type": "stream",
          "name": "stdout",
          "text": [
            "day1    420\n",
            "day2    380\n",
            "dtype: int64\n"
          ]
        }
      ]
    },
    {
      "cell_type": "markdown",
      "source": [
        "## DataFrames\n",
        "* Data sets in Pandas are usually multi-dimensional tables, called DataFrames.\n",
        "* Series is like a column, a DataFrame is the whole table.\n"
      ],
      "metadata": {
        "id": "NZGQUXFtZUb8"
      }
    },
    {
      "cell_type": "markdown",
      "source": [
        "* **Create a simple Pandas DataFrame:**"
      ],
      "metadata": {
        "id": "Grf83tHtZmE2"
      }
    },
    {
      "cell_type": "code",
      "source": [
        "data = {\n",
        "  \"calories\": [420, 380, 390],\n",
        "  \"duration\": [50, 40, 45]\n",
        "}\n",
        "\n",
        "#load data into a DataFrame object:\n",
        "df = pd.DataFrame(data)\n",
        "\n",
        "print(df)"
      ],
      "metadata": {
        "colab": {
          "base_uri": "https://localhost:8080/"
        },
        "id": "m3bUOK2EZB8u",
        "outputId": "d200ef9a-b0fc-44e4-e08e-2b052bfc6619"
      },
      "execution_count": null,
      "outputs": [
        {
          "output_type": "stream",
          "name": "stdout",
          "text": [
            "   calories  duration\n",
            "0       420        50\n",
            "1       380        40\n",
            "2       390        45\n"
          ]
        }
      ]
    },
    {
      "cell_type": "markdown",
      "source": [
        "* **Locate Row**\n",
        "* As you can see from the result above, the DataFrame is like a table with rows and columns.\n",
        "\n",
        "* Pandas use the loc attribute to return one or more specified row(s)"
      ],
      "metadata": {
        "id": "Ml22gtwHaH4K"
      }
    },
    {
      "cell_type": "code",
      "source": [
        "print(df.loc[0])"
      ],
      "metadata": {
        "colab": {
          "base_uri": "https://localhost:8080/"
        },
        "id": "PxmAkXyBZr72",
        "outputId": "5ec68c69-e430-443d-f0a8-2303c831cf26"
      },
      "execution_count": null,
      "outputs": [
        {
          "output_type": "stream",
          "name": "stdout",
          "text": [
            "calories    420\n",
            "duration     50\n",
            "Name: 0, dtype: int64\n"
          ]
        }
      ]
    },
    {
      "cell_type": "code",
      "source": [
        "print(df.loc[[0, 1]])"
      ],
      "metadata": {
        "colab": {
          "base_uri": "https://localhost:8080/"
        },
        "id": "f5PBkB6RaQBS",
        "outputId": "46b6f133-3b3c-4724-baed-4937b938c035"
      },
      "execution_count": null,
      "outputs": [
        {
          "output_type": "stream",
          "name": "stdout",
          "text": [
            "   calories  duration\n",
            "0       420        50\n",
            "1       380        40\n"
          ]
        }
      ]
    },
    {
      "cell_type": "markdown",
      "source": [
        "* **Named Indexes**\n",
        "* With the index argument, you can name your own indexes."
      ],
      "metadata": {
        "id": "Cxqc7O_FakeA"
      }
    },
    {
      "cell_type": "code",
      "source": [
        "data = {\n",
        "  \"calories\": [420, 380, 390],\n",
        "  \"duration\": [50, 40, 45]\n",
        "}\n",
        "\n",
        "df = pd.DataFrame(data, index = [\"day1\", \"day2\", \"day3\"])\n",
        "\n",
        "print(df)"
      ],
      "metadata": {
        "colab": {
          "base_uri": "https://localhost:8080/"
        },
        "id": "3heyHk1CaX8T",
        "outputId": "2f5163be-5905-45cb-ee40-e19e4e1260a0"
      },
      "execution_count": null,
      "outputs": [
        {
          "output_type": "stream",
          "name": "stdout",
          "text": [
            "      calories  duration\n",
            "day1       420        50\n",
            "day2       380        40\n",
            "day3       390        45\n"
          ]
        }
      ]
    },
    {
      "cell_type": "markdown",
      "source": [
        "* **Locate Named Indexes**\n",
        "* Use the named index in the loc attribute to return the specified row(s)."
      ],
      "metadata": {
        "id": "9C04qR54axqt"
      }
    },
    {
      "cell_type": "code",
      "source": [
        "print(df.loc[\"day2\"])"
      ],
      "metadata": {
        "colab": {
          "base_uri": "https://localhost:8080/"
        },
        "id": "jHJ6KwYLaqI4",
        "outputId": "4e02694a-65cc-4174-8f32-c8adedb2a7a4"
      },
      "execution_count": null,
      "outputs": [
        {
          "output_type": "stream",
          "name": "stdout",
          "text": [
            "calories    380\n",
            "duration     40\n",
            "Name: day2, dtype: int64\n"
          ]
        }
      ]
    },
    {
      "cell_type": "markdown",
      "source": [
        "## Load Files Into a DataFrame"
      ],
      "metadata": {
        "id": "_b13yDXobIh_"
      }
    },
    {
      "cell_type": "code",
      "source": [
        "df = pd.read_csv('/content/drive/MyDrive/Python/data.csv')\n",
        "\n",
        "print(df)"
      ],
      "metadata": {
        "colab": {
          "base_uri": "https://localhost:8080/"
        },
        "id": "ZJ9S63_Ga2k5",
        "outputId": "08055898-fabd-420e-a893-24e05d3946ba"
      },
      "execution_count": null,
      "outputs": [
        {
          "output_type": "stream",
          "name": "stdout",
          "text": [
            "      Series_reference   Period  Data_value Suppressed STATUS   UNITS  \\\n",
            "0          BDCQ.SEA1AA  2011.06     80078.0        NaN      F  Number   \n",
            "1          BDCQ.SEA1AA  2011.09     78324.0        NaN      F  Number   \n",
            "2          BDCQ.SEA1AA  2011.12     85850.0        NaN      F  Number   \n",
            "3          BDCQ.SEA1AA  2012.03     90743.0        NaN      F  Number   \n",
            "4          BDCQ.SEA1AA  2012.06     81780.0        NaN      F  Number   \n",
            "...                ...      ...         ...        ...    ...     ...   \n",
            "20249    BDCQ.SEE3999A  2017.06         NaN          Y      C  Number   \n",
            "20250    BDCQ.SEE3999A  2017.09         NaN          Y      C  Number   \n",
            "20251    BDCQ.SEE3999A  2017.12         NaN          Y      C  Number   \n",
            "20252    BDCQ.SEE3999A  2018.03         NaN          Y      C  Number   \n",
            "20253    BDCQ.SEE3999A  2018.06         NaN          Y      C  Number   \n",
            "\n",
            "       Magnitude                         Subject  \\\n",
            "0              0  Business Data Collection - BDC   \n",
            "1              0  Business Data Collection - BDC   \n",
            "2              0  Business Data Collection - BDC   \n",
            "3              0  Business Data Collection - BDC   \n",
            "4              0  Business Data Collection - BDC   \n",
            "...          ...                             ...   \n",
            "20249          0  Business Data Collection - BDC   \n",
            "20250          0  Business Data Collection - BDC   \n",
            "20251          0  Business Data Collection - BDC   \n",
            "20252          0  Business Data Collection - BDC   \n",
            "20253          0  Business Data Collection - BDC   \n",
            "\n",
            "                                              Group  \\\n",
            "0                   Industry by employment variable   \n",
            "1                   Industry by employment variable   \n",
            "2                   Industry by employment variable   \n",
            "3                   Industry by employment variable   \n",
            "4                   Industry by employment variable   \n",
            "...                                             ...   \n",
            "20249  Territorial authority by employment variable   \n",
            "20250  Territorial authority by employment variable   \n",
            "20251  Territorial authority by employment variable   \n",
            "20252  Territorial authority by employment variable   \n",
            "20253  Territorial authority by employment variable   \n",
            "\n",
            "                               Series_title_1  \\\n",
            "0                                 Filled jobs   \n",
            "1                                 Filled jobs   \n",
            "2                                 Filled jobs   \n",
            "3                                 Filled jobs   \n",
            "4                                 Filled jobs   \n",
            "...                                       ...   \n",
            "20249  Filled jobs (workplace location based)   \n",
            "20250  Filled jobs (workplace location based)   \n",
            "20251  Filled jobs (workplace location based)   \n",
            "20252  Filled jobs (workplace location based)   \n",
            "20253  Filled jobs (workplace location based)   \n",
            "\n",
            "                           Series_title_2 Series_title_3  Series_title_4  \\\n",
            "0       Agriculture, Forestry and Fishing         Actual             NaN   \n",
            "1       Agriculture, Forestry and Fishing         Actual             NaN   \n",
            "2       Agriculture, Forestry and Fishing         Actual             NaN   \n",
            "3       Agriculture, Forestry and Fishing         Actual             NaN   \n",
            "4       Agriculture, Forestry and Fishing         Actual             NaN   \n",
            "...                                   ...            ...             ...   \n",
            "20249  Area Outside Territorial Authority         Actual             NaN   \n",
            "20250  Area Outside Territorial Authority         Actual             NaN   \n",
            "20251  Area Outside Territorial Authority         Actual             NaN   \n",
            "20252  Area Outside Territorial Authority         Actual             NaN   \n",
            "20253  Area Outside Territorial Authority         Actual             NaN   \n",
            "\n",
            "       Series_title_5  \n",
            "0                 NaN  \n",
            "1                 NaN  \n",
            "2                 NaN  \n",
            "3                 NaN  \n",
            "4                 NaN  \n",
            "...               ...  \n",
            "20249             NaN  \n",
            "20250             NaN  \n",
            "20251             NaN  \n",
            "20252             NaN  \n",
            "20253             NaN  \n",
            "\n",
            "[20254 rows x 14 columns]\n"
          ]
        }
      ]
    },
    {
      "cell_type": "code",
      "source": [],
      "metadata": {
        "id": "AFOBpylDa70T"
      },
      "execution_count": null,
      "outputs": []
    }
  ]
}